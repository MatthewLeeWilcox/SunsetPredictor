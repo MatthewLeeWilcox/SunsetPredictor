{
 "cells": [
  {
   "cell_type": "code",
   "execution_count": 2,
   "metadata": {},
   "outputs": [
    {
     "ename": "ModuleNotFoundError",
     "evalue": "No module named 'keras'",
     "output_type": "error",
     "traceback": [
      "\u001b[1;31m---------------------------------------------------------------------------\u001b[0m",
      "\u001b[1;31mModuleNotFoundError\u001b[0m                       Traceback (most recent call last)",
      "Cell \u001b[1;32mIn[2], line 7\u001b[0m\n\u001b[0;32m      5\u001b[0m \u001b[38;5;28;01mfrom\u001b[39;00m \u001b[38;5;21;01mtqdm\u001b[39;00m \u001b[38;5;28;01mimport\u001b[39;00m tqdm\n\u001b[0;32m      6\u001b[0m \u001b[38;5;28;01mfrom\u001b[39;00m \u001b[38;5;21;01mmatplotlib\u001b[39;00m \u001b[38;5;28;01mimport\u001b[39;00m pyplot \u001b[38;5;28;01mas\u001b[39;00m plt\n\u001b[1;32m----> 7\u001b[0m \u001b[38;5;28;01mfrom\u001b[39;00m \u001b[38;5;21;01mkeras\u001b[39;00m\u001b[38;5;21;01m.\u001b[39;00m\u001b[38;5;21;01mdatasets\u001b[39;00m\u001b[38;5;21;01m.\u001b[39;00m\u001b[38;5;21;01mmnist\u001b[39;00m \u001b[38;5;28;01mimport\u001b[39;00m load_data\n",
      "\u001b[1;31mModuleNotFoundError\u001b[0m: No module named 'keras'"
     ]
    }
   ],
   "source": [
    "import torch\n",
    "import torch.nn as nn\n",
    "import torch.optim as optim\n",
    "import numpy as np\n",
    "from tqdm import tqdm\n",
    "from matplotlib import pyplot as plt\n",
    "from keras.datasets.mnist import load_data"
   ]
  },
  {
   "cell_type": "code",
   "execution_count": null,
   "metadata": {},
   "outputs": [],
   "source": [
    "(trainX, trainy), (testX, testy) = load_data()\n",
    "trainX = np.float32(trainX) / 255.\n"
   ]
  },
  {
   "cell_type": "code",
   "execution_count": null,
   "metadata": {},
   "outputs": [],
   "source": [
    "\n",
    "def get_minibatch(batch_size, device):\n",
    "    indices = torch.randperm(trainX.shape[0])[:batch_size]\n",
    "    return torch.tensor(trainX[indices], dtype=torch.float).reshape(batch_size, -1).to(\n",
    "        device), torch.nn.functional.one_hot(torch.tensor(trainy[indices], dtype=torch.long), num_classes=10).to(\n",
    "        device).type(torch.float)\n"
   ]
  },
  {
   "cell_type": "code",
   "execution_count": null,
   "metadata": {},
   "outputs": [],
   "source": [
    "def sample_noise(size, device, dim=100):\n",
    "    return torch.rand((size, dim), device=device)\n",
    "\n"
   ]
  },
  {
   "cell_type": "code",
   "execution_count": null,
   "metadata": {},
   "outputs": [],
   "source": [
    "class Generator(nn.Module):\n",
    "\n",
    "    def __init__(self, latent_dim=100, context_dim=10, output_dim=28 * 28):\n",
    "        super(Generator, self).__init__()\n",
    "\n",
    "        self.hidden1_z = nn.Sequential(nn.Linear(latent_dim, 200), nn.Dropout(p=0.5), nn.ReLU(), )\n",
    "        self.hidden1_context = nn.Sequential(nn.Linear(context_dim, 1000), nn.Dropout(p=0.5), nn.ReLU(), )\n",
    "        self.hidden2 = nn.Sequential(nn.Linear(1200, 1200), nn.Dropout(p=0.5), nn.ReLU(), )\n",
    "        self.out_layer = nn.Sequential(nn.Linear(1200, output_dim), nn.Sigmoid(), )\n",
    "\n",
    "    def forward(self, noise, context):\n",
    "        h = torch.cat((self.hidden1_z(noise), self.hidden1_context(context)), dim=1)\n",
    "        h = self.hidden2(h)\n",
    "        return self.out_layer(h)\n"
   ]
  },
  {
   "cell_type": "code",
   "execution_count": null,
   "metadata": {},
   "outputs": [],
   "source": [
    "\n",
    "class Discriminator(nn.Module):\n",
    "\n",
    "    def __init__(self, input_dim=28 * 28, context_dim=10):\n",
    "        super(Discriminator, self).__init__()\n",
    "\n",
    "        self.hidden1_x = nn.Sequential(nn.Linear(input_dim, 240), nn.Dropout(p=0.5), nn.LeakyReLU(), )\n",
    "        self.hidden1_context = nn.Sequential(nn.Linear(context_dim, 50), nn.Dropout(p=0.5), nn.LeakyReLU(), )\n",
    "        self.hidden2 = nn.Sequential(nn.Linear(290, 240), nn.Dropout(p=0.5), nn.LeakyReLU(), )\n",
    "        self.out_layer = nn.Sequential(nn.Linear(240, 1), nn.Sigmoid(), )\n",
    "\n",
    "    def forward(self, x, context):\n",
    "        h = torch.cat((self.hidden1_x(x), self.hidden1_context(context)), dim=1)\n",
    "        h = self.hidden2(h)\n",
    "        return self.out_layer(h)"
   ]
  },
  {
   "cell_type": "code",
   "execution_count": null,
   "metadata": {},
   "outputs": [],
   "source": [
    "def train(generator, discriminator, generator_optimizer, discriminator_optimizer, schedulers, nb_epochs, k=1,\n",
    "          batch_size=100):\n",
    "    training_loss = {'generative': [], 'discriminator': []}\n",
    "    for epoch in tqdm(range(nb_epochs)):\n",
    "\n",
    "        ### Train the disciminator\n",
    "        for _ in range(k):\n",
    "            # Sample a minibatch of m noise samples\n",
    "            z = sample_noise(batch_size, device)\n",
    "            # Sample a minibatch of m examples from the data generating distribution\n",
    "            x, label = get_minibatch(batch_size, device)\n",
    "\n",
    "            # Update the discriminator by ascending its stochastic gradient\n",
    "            f_loss = torch.nn.BCELoss()(discriminator(generator(z, label), label).reshape(batch_size),\n",
    "                                        torch.zeros(batch_size, device=device))\n",
    "            r_loss = torch.nn.BCELoss()(discriminator(x, label).reshape(batch_size),\n",
    "                                        torch.ones(batch_size, device=device))\n",
    "            loss = (r_loss + f_loss) / 2\n",
    "            discriminator_optimizer.zero_grad()\n",
    "            loss.backward()\n",
    "            discriminator_optimizer.step()\n",
    "            training_loss['discriminator'].append(loss.item())\n",
    "\n",
    "        ### Train the generator\n",
    "        # Sample a minibatch of m noise samples\n",
    "        z = sample_noise(batch_size, device)\n",
    "        _, label = get_minibatch(batch_size, device)\n",
    "        # Update the generator by descending its stochastic gradient\n",
    "        loss = torch.nn.BCELoss()(discriminator(generator(z, label), label).reshape(batch_size),\n",
    "                                  torch.ones(batch_size, device=device))\n",
    "        generator_optimizer.zero_grad()\n",
    "        loss.backward()\n",
    "        generator_optimizer.step()\n",
    "        training_loss['generative'].append(loss.item())\n",
    "\n",
    "        for scheduler in schedulers:\n",
    "            scheduler.step()\n",
    "\n",
    "    return training_loss\n"
   ]
  },
  {
   "cell_type": "code",
   "execution_count": null,
   "metadata": {},
   "outputs": [],
   "source": [
    "\n",
    "if __name__ == \"__main__\":\n",
    "\n",
    "    device = 'cuda:0'\n",
    "    discriminator = Discriminator().to(device)\n",
    "    generator = Generator().to(device)\n",
    "    optimizer_d = optim.SGD(discriminator.parameters(), lr=0.1, momentum=0.5)\n",
    "    optimizer_g = optim.SGD(generator.parameters(), lr=0.1, momentum=0.5)\n",
    "    schedulers = [torch.optim.lr_scheduler.ExponentialLR(optimizer_d, 1 / 1.00004),\n",
    "                  torch.optim.lr_scheduler.ExponentialLR(optimizer_g, 1 / 1.00004)]\n",
    "\n",
    "    loss = train(generator, discriminator, optimizer_g, optimizer_d, schedulers, 287828, batch_size=100)\n",
    "\n",
    "    plt.figure(figsize=(12, 12))\n",
    "    NB_IMAGES = 10\n",
    "    for i in range(10):\n",
    "        z = sample_noise(NB_IMAGES, device)\n",
    "        context = torch.nn.functional.one_hot(torch.ones(NB_IMAGES, dtype=torch.long) * i, num_classes=10).to(\n",
    "            device).type(torch.float)\n",
    "        x = generator(z, context)\n",
    "        for j in range(NB_IMAGES):\n",
    "            plt.subplot(10, 10, 10 * i + 1 + j)\n",
    "            plt.axis('off')\n",
    "            plt.imshow(x[j].data.cpu().numpy().reshape(28, 28), cmap='gray')\n",
    "    plt.savefig('Imgs/cgan.png')"
   ]
  }
 ],
 "metadata": {
  "kernelspec": {
   "display_name": "base",
   "language": "python",
   "name": "python3"
  },
  "language_info": {
   "codemirror_mode": {
    "name": "ipython",
    "version": 3
   },
   "file_extension": ".py",
   "mimetype": "text/x-python",
   "name": "python",
   "nbconvert_exporter": "python",
   "pygments_lexer": "ipython3",
   "version": "3.9.19"
  }
 },
 "nbformat": 4,
 "nbformat_minor": 2
}
